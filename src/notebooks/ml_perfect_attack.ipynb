{
 "cells": [
  {
   "cell_type": "code",
   "execution_count": null,
   "metadata": {},
   "outputs": [],
   "source": [
    "import matplotlib.pyplot as plt\n",
    "import numpy as np"
   ]
  },
  {
   "cell_type": "code",
   "execution_count": null,
   "metadata": {},
   "outputs": [],
   "source": [
    "sigma = np.logspace(-1, 1, 5)\n",
    "k = 1\n",
    "c = np.sqrt(2) / 2\n",
    "x = np.linspace(0, 1, 100)\n",
    "for s in sigma:\n",
    "    ss = 2 * s ** 2\n",
    "    l1 = np.exp((k - x) ** 2 / ss) + np.exp((k) ** 2 / ss)\n",
    "    l2 = 2 * np.exp((k - c*x) ** 2/ss + (c*x)**2/ss)\n",
    "    y = l1 - l2\n",
    "    y[y > 0] = 1\n",
    "    y[y < 0] = -1\n",
    "    plt.plot(x, y, label=s)\n",
    "    plt.legend()"
   ]
  },
  {
   "cell_type": "code",
   "execution_count": null,
   "metadata": {},
   "outputs": [],
   "source": [
    "1 + np.e - 2*np.e**(np.sqrt(2) - 1/2)"
   ]
  },
  {
   "cell_type": "code",
   "execution_count": null,
   "metadata": {},
   "outputs": [],
   "source": []
  }
 ],
 "metadata": {
  "interpreter": {
   "hash": "7f1e991bb69f226eb66b74e4e72b455e63dc5a7376fad77c88553bebe760fd14"
  },
  "kernelspec": {
   "display_name": "Python 3.9.7 ('torch')",
   "language": "python",
   "name": "python3"
  },
  "language_info": {
   "codemirror_mode": {
    "name": "ipython",
    "version": 3
   },
   "file_extension": ".py",
   "mimetype": "text/x-python",
   "name": "python",
   "nbconvert_exporter": "python",
   "pygments_lexer": "ipython3",
   "version": "3.9.7"
  },
  "orig_nbformat": 4
 },
 "nbformat": 4,
 "nbformat_minor": 2
}

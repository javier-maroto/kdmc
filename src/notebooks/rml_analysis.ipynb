{
 "cells": [
  {
   "cell_type": "code",
   "execution_count": null,
   "metadata": {},
   "outputs": [],
   "source": [
    "import sys\n",
    "sys.path.append(\"../\")\n",
    "\n",
    "import torch\n",
    "import random\n",
    "import numpy as np\n",
    "import matplotlib.pyplot as plt\n",
    "import ipywidgets as widgets\n",
    "\n",
    "from kdmc.parser import parse_args\n",
    "from kdmc.data.core import get_classes, get_datasets"
   ]
  },
  {
   "cell_type": "code",
   "execution_count": null,
   "metadata": {},
   "outputs": [],
   "source": [
    "args = parse_args(['--dataset', 'srml2018','--seed', '0','--root_path', '../../'])"
   ]
  },
  {
   "cell_type": "code",
   "execution_count": null,
   "metadata": {},
   "outputs": [],
   "source": [
    "# Seed\n",
    "torch.manual_seed(args.seed)\n",
    "np.random.seed(args.seed)\n",
    "random.seed(args.seed)\n",
    "\n",
    "# Data\n",
    "trainset, testset = get_datasets(args)"
   ]
  },
  {
   "cell_type": "code",
   "execution_count": null,
   "metadata": {},
   "outputs": [],
   "source": [
    "args2 = parse_args(['--dataset', 'rml2018r','--seed', '0','--root_path', '../../'])"
   ]
  },
  {
   "cell_type": "code",
   "execution_count": null,
   "metadata": {},
   "outputs": [],
   "source": [
    "# Data\n",
    "trainset2, testset2 = get_datasets(args2)"
   ]
  },
  {
   "cell_type": "code",
   "execution_count": null,
   "metadata": {},
   "outputs": [],
   "source": [
    "print(len(trainset))\n",
    "print(len(trainset2))"
   ]
  },
  {
   "cell_type": "code",
   "execution_count": null,
   "metadata": {},
   "outputs": [],
   "source": [
    "def plot_signals(idx, snr, class_idx):\n",
    "    y1 = trainset.dataset.y[trainset.indices]\n",
    "    y2 = testset2.dataset.y[testset2.indices]\n",
    "    snr1 = trainset.dataset.snr[trainset.indices]\n",
    "    snr2 = testset2.dataset.snr[testset2.indices]\n",
    "    idxs_1 = np.arange(len(trainset))[(np.argmax(y1, axis=1) == class_idx) & (snr1 == snr)]\n",
    "    idxs_2 = np.arange(len(testset2))[(np.argmax(y2, axis=1) == class_idx) & (snr2 == snr)]\n",
    "    idx1 = idxs_1[idx]\n",
    "    idx2 = idxs_2[idx]\n",
    "    fig, axes = plt.subplots(2, 1, figsize=(8, 5))\n",
    "    x1 = trainset[idx1]['x']\n",
    "    x2 = testset2[idx2]['x']\n",
    "    axes[0].plot(np.arange(1024), x1[0], label='I')\n",
    "    axes[0].plot(np.arange(1024), x1[1], label='Q')\n",
    "    axes[1].plot(np.arange(1024), x2[0], label='I')\n",
    "    axes[1].plot(np.arange(1024), x2[1], label='Q')\n",
    "    axes[0].legend()\n",
    "    axes[1].legend()"
   ]
  },
  {
   "cell_type": "code",
   "execution_count": null,
   "metadata": {},
   "outputs": [],
   "source": [
    "wplot = widgets.interactive(\n",
    "    plot_signals,\n",
    "    idx=widgets.IntSlider(min=0, max=20, step=1, value=0),\n",
    "    snr=widgets.IntSlider(min=-20, max=30, step=2, value=30),\n",
    "    class_idx=widgets.Dropdown(\n",
    "        options=[(x, i) for i, x in enumerate(get_classes(args.dataset))],\n",
    "        value=0,\n",
    "        description='Class:',\n",
    "    )\n",
    ")\n",
    "wplot"
   ]
  }
 ],
 "metadata": {
  "kernelspec": {
   "display_name": "Python 3.8.2 ('all')",
   "language": "python",
   "name": "python3"
  },
  "language_info": {
   "codemirror_mode": {
    "name": "ipython",
    "version": 3
   },
   "file_extension": ".py",
   "mimetype": "text/x-python",
   "name": "python",
   "nbconvert_exporter": "python",
   "pygments_lexer": "ipython3",
   "version": "3.8.2"
  },
  "vscode": {
   "interpreter": {
    "hash": "239d7744adddc8f4c4fdddfb4098aba2c39b836ee11ac5344a9ec910a7cd3447"
   }
  }
 },
 "nbformat": 4,
 "nbformat_minor": 4
}

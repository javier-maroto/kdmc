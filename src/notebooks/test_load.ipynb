{
 "cells": [
  {
   "cell_type": "code",
   "execution_count": null,
   "metadata": {},
   "outputs": [],
   "source": [
    "import sys\n",
    "sys.path.append(\"../\")"
   ]
  },
  {
   "cell_type": "code",
   "execution_count": null,
   "metadata": {},
   "outputs": [],
   "source": [
    "import torch\n",
    "import numpy as np\n",
    "import random\n",
    "import wandb\n",
    "import torch.profiler as tpf"
   ]
  },
  {
   "cell_type": "code",
   "execution_count": null,
   "metadata": {},
   "outputs": [],
   "source": [
    "from kdmc.parser import parse_args\n",
    "from kdmc.data.core import create_dataloaders, get_datasets\n",
    "from kdmc.train.core import create_model, create_scheduler, get_trainer"
   ]
  },
  {
   "cell_type": "markdown",
   "metadata": {},
   "source": [
    "# Train"
   ]
  },
  {
   "cell_type": "code",
   "execution_count": null,
   "metadata": {},
   "outputs": [],
   "source": [
    "# Detect when NaN appears\n",
    "torch.autograd.set_detect_anomaly(True)"
   ]
  },
  {
   "cell_type": "code",
   "execution_count": null,
   "metadata": {},
   "outputs": [],
   "source": [
    "args = parse_args([\n",
    "    '--id', 'test', '--loss', 'std', '--dataset', 'sbasic', '--arch', 'resnet', \n",
    "    '--batch_size', '512', '--seed', '0', '--grad_clip', '1e3', '--profile'\n",
    "    '--root_path', '../../'])\n",
    "\n",
    "wandb.init(project=f\"kdmc_{args.dataset}\", name=args.id, dir=args.root_path.joinpath(\"wandb\"))\n",
    "wandb.config.update(args)\n",
    "\n",
    "# Seed\n",
    "torch.manual_seed(args.seed)\n",
    "np.random.seed(args.seed)\n",
    "random.seed(args.seed)"
   ]
  },
  {
   "cell_type": "code",
   "execution_count": null,
   "metadata": {},
   "outputs": [],
   "source": [
    "# Data\n",
    "print('==> Preparing data..')\n",
    "trainset, testset = get_datasets(args)\n",
    "trainloader, testloader = create_dataloaders(args, trainset, testset)\n",
    "args.time_samples = trainset.dataset.time_samples"
   ]
  },
  {
   "cell_type": "code",
   "execution_count": null,
   "metadata": {},
   "outputs": [],
   "source": [
    "# Model\n",
    "print('==> Building model..')\n",
    "net = create_model(args)\n",
    "\n",
    "optimizer = torch.optim.SGD(net.parameters(), lr=args.lr,\n",
    "                    momentum=0.9, weight_decay=5e-4)\n",
    "scheduler, schd_updt = create_scheduler(optimizer, args, args.n_epochs, len(trainloader))"
   ]
  },
  {
   "cell_type": "code",
   "execution_count": null,
   "metadata": {},
   "outputs": [],
   "source": [
    "start_epoch = 1\n",
    "\n",
    "trainer = get_trainer(args, net, trainloader, testloader, optimizer, scheduler, schd_updt, args.save_freq)\n",
    "for epoch in range(start_epoch, args.n_epochs + 1):\n",
    "    if epoch == 1:\n",
    "        with tpf.profile(\n",
    "                activities=[tpf.ProfilerActivity.CPU, tpf.ProfilerActivity.CUDA],\n",
    "                on_trace_ready=tpf.tensorboard_trace_handler(dir_name=args.root_path.joinpath('profiler')),\n",
    "                record_shapes=True,  # record shapes of operator inputs\n",
    "                profile_memory=True,  # record tensor memory allocation\n",
    "                with_stack=True  # record stack traces of where ops are created\n",
    "            ) as prof:\n",
    "            trainer.train(epoch, profiler=prof)"
   ]
  },
  {
   "cell_type": "code",
   "execution_count": null,
   "metadata": {},
   "outputs": [],
   "source": [
    "%load_ext tensorboard"
   ]
  },
  {
   "cell_type": "code",
   "execution_count": null,
   "metadata": {},
   "outputs": [],
   "source": [
    "%tensorboard --logdir ../../profiler"
   ]
  },
  {
   "cell_type": "code",
   "execution_count": null,
   "metadata": {},
   "outputs": [],
   "source": [
    "# Model\n",
    "print('==> Building model..')\n",
    "net2 = create_model(args)\n",
    "ckpt_path = args.root_path.joinpath(f\"checkpoint/{args.dataset}/{args.arch}/{args.id}/{args.seed}/ckpt_last.pth\")\n",
    "ckpt = torch.load(ckpt_path)\n",
    "net2.load_state_dict(ckpt[\"net\"])\n",
    "net2.to(args.device)\n",
    "net2.eval()"
   ]
  },
  {
   "cell_type": "code",
   "execution_count": null,
   "metadata": {},
   "outputs": [],
   "source": [
    "trainer.get_geometric_metrics = lambda: {}\n",
    "trainer2 = get_trainer(args, net2, trainloader, testloader, None, None, None, args.save_freq)\n",
    "trainer2.get_geometric_metrics = lambda: {}"
   ]
  },
  {
   "cell_type": "code",
   "execution_count": null,
   "metadata": {},
   "outputs": [],
   "source": [
    "res = trainer.test()"
   ]
  },
  {
   "cell_type": "code",
   "execution_count": null,
   "metadata": {},
   "outputs": [],
   "source": [
    "res2 = trainer2.test()"
   ]
  },
  {
   "cell_type": "code",
   "execution_count": null,
   "metadata": {},
   "outputs": [],
   "source": [
    "res"
   ]
  },
  {
   "cell_type": "code",
   "execution_count": null,
   "metadata": {},
   "outputs": [],
   "source": [
    "(res2['clean'] == res['clean']).all()"
   ]
  }
 ],
 "metadata": {
  "interpreter": {
   "hash": "e0613a07af210ee2b3d602f3b8568b2147faa2eb28e6686b4174ce724348eb94"
  },
  "kernelspec": {
   "display_name": "Python 3.10.4 ('kdmc')",
   "language": "python",
   "name": "python3"
  },
  "language_info": {
   "codemirror_mode": {
    "name": "ipython",
    "version": 3
   },
   "file_extension": ".py",
   "mimetype": "text/x-python",
   "name": "python",
   "nbconvert_exporter": "python",
   "pygments_lexer": "ipython3",
   "version": "3.10.4"
  },
  "orig_nbformat": 4
 },
 "nbformat": 4,
 "nbformat_minor": 2
}

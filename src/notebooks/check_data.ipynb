{
 "cells": [
  {
   "cell_type": "code",
   "execution_count": null,
   "metadata": {},
   "outputs": [],
   "source": [
    "from pathlib import Path\n",
    "import re, os\n",
    "import pandas as pd"
   ]
  },
  {
   "cell_type": "code",
   "execution_count": null,
   "metadata": {},
   "outputs": [],
   "source": [
    "dir = \"D:/Datasets/synthetic/signal\""
   ]
  },
  {
   "cell_type": "code",
   "execution_count": null,
   "metadata": {},
   "outputs": [],
   "source": [
    "def check_data(dir, folder='rx_x'):\n",
    "    paths = []\n",
    "    sizes = []\n",
    "    for _, _, files in os.walk(os.path.join(dir, folder)):\n",
    "        for file in files:\n",
    "            if file.endswith(\".mat\"):\n",
    "                paths.append(file)\n",
    "                sizes.append(os.path.getsize(os.path.join(dir, folder, file)))\n",
    "    df_path = pd.DataFrame({'path': paths, 'size': sizes})\n",
    "    df_path = pd.concat([\n",
    "        df_path, df_path['path'].str.extract(\n",
    "            r'(?P<channel>[\\w]+)_(?P<modulation>[\\w-]+)_(?P<fs>[\\w.+-]+)_(?P<sps>[\\w.+-]+)_(?P<rolloff>[\\w.+-]+)_(?P<snr>[\\w.+-]+)\\.mat')], axis=1)\n",
    "    df_path['fs'] = df_path['fs'].astype(float)\n",
    "    df_path['sps'] = df_path['sps'].astype(float)\n",
    "    df_path['rolloff'] = df_path['rolloff'].astype(float)\n",
    "    df_path['snr'] = df_path['snr'].astype(float)\n",
    "    return df_path.groupby(['channel', 'fs', 'sps', 'rolloff'])['size'].agg(['min', 'max', 'count'])"
   ]
  },
  {
   "cell_type": "code",
   "execution_count": null,
   "metadata": {},
   "outputs": [],
   "source": [
    "check_data(dir, 'rx_x')"
   ]
  },
  {
   "cell_type": "code",
   "execution_count": null,
   "metadata": {},
   "outputs": [],
   "source": [
    "check_data(dir, 'y')"
   ]
  },
  {
   "cell_type": "code",
   "execution_count": null,
   "metadata": {},
   "outputs": [],
   "source": [
    "check_data(dir, 'rx_s')"
   ]
  },
  {
   "cell_type": "code",
   "execution_count": null,
   "metadata": {},
   "outputs": [],
   "source": [
    "check_data(dir, 'rx_nf')"
   ]
  },
  {
   "cell_type": "code",
   "execution_count": null,
   "metadata": {},
   "outputs": [],
   "source": [
    "check_data(dir, 'tx_s')"
   ]
  },
  {
   "cell_type": "code",
   "execution_count": null,
   "metadata": {},
   "outputs": [],
   "source": [
    "def delete(dir):\n",
    "    df = check_data(dir, 'rx_x')\n",
    "    df = df.loc[(df['min'] < 3e7) | (df['count'] < 260)]\n",
    "\n",
    "    paths = []\n",
    "    sizes = []\n",
    "    for _, _, files in os.walk(os.path.join(dir, 'rx_x')):\n",
    "        for file in files:\n",
    "            if file.endswith(\".mat\"):\n",
    "                paths.append(file)\n",
    "                sizes.append(os.path.getsize(os.path.join(dir, 'rx_x', file)))\n",
    "    df_path = pd.DataFrame({'path': paths, 'size': sizes})\n",
    "    df_path = pd.concat([\n",
    "        df_path, df_path['path'].str.extract(\n",
    "            r'(?P<channel>[\\w]+)_(?P<modulation>[\\w-]+)_(?P<fs>[\\w.+-]+)_(?P<sps>[\\w.+-]+)_(?P<rolloff>[\\w.+-]+)_(?P<snr>[\\w.+-]+)\\.mat')], axis=1)\n",
    "    df_path['fs'] = df_path['fs'].astype(float)\n",
    "    df_path['sps'] = df_path['sps'].astype(float)\n",
    "    df_path['rolloff'] = df_path['rolloff'].astype(float)\n",
    "    df_path['snr'] = df_path['snr'].astype(float)\n",
    "\n",
    "    df_delete = df_path.merge(df, how='inner', on=['channel', 'fs', 'sps', 'rolloff'])\n",
    "    for file in df_delete.path:\n",
    "        path = os.path.join(dir, 'rx_x', file)\n",
    "        if os.path.exists(path):\n",
    "            os.remove(path)\n",
    "    paths = []\n",
    "    for _, _, files in os.walk(os.path.join(dir, 'rx_x')):\n",
    "        for file in files:\n",
    "            if file.endswith(\".mat\"):\n",
    "                paths.append(file)\n",
    "    for g in ['rx_s', 'rx_nf', 'y', 'tx_s']:\n",
    "        for _, _, files in os.walk(os.path.join(dir, g)):\n",
    "            for file in files:\n",
    "                if file not in paths:\n",
    "                    path = os.path.join(dir, g, file)\n",
    "                    os.remove(path)\n",
    "\n",
    "delete(dir)"
   ]
  }
 ],
 "metadata": {
  "interpreter": {
   "hash": "e0613a07af210ee2b3d602f3b8568b2147faa2eb28e6686b4174ce724348eb94"
  },
  "kernelspec": {
   "display_name": "Python 3.10.4 ('kdmc')",
   "language": "python",
   "name": "python3"
  },
  "language_info": {
   "codemirror_mode": {
    "name": "ipython",
    "version": 3
   },
   "file_extension": ".py",
   "mimetype": "text/x-python",
   "name": "python",
   "nbconvert_exporter": "python",
   "pygments_lexer": "ipython3",
   "version": "3.10.4"
  },
  "orig_nbformat": 4
 },
 "nbformat": 4,
 "nbformat_minor": 2
}

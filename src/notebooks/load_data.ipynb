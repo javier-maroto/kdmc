{
 "cells": [
  {
   "cell_type": "code",
   "execution_count": null,
   "metadata": {},
   "outputs": [],
   "source": [
    "import scipy.io\n",
    "\n",
    "mat = scipy.io.loadmat('../../data/synthetic/signal/rx_x/AWGN_8-PSK_1e+06_1_0.15_18.mat')\n"
   ]
  },
  {
   "cell_type": "code",
   "execution_count": null,
   "metadata": {},
   "outputs": [],
   "source": [
    "s = mat['rx_x'][:,0]\n",
    "s.shape"
   ]
  },
  {
   "cell_type": "code",
   "execution_count": null,
   "metadata": {},
   "outputs": [],
   "source": [
    "import matplotlib.pyplot as plt\n",
    "import numpy as np\n",
    "\n",
    "plt.plot(s.real)\n",
    "plt.plot(s.imag)"
   ]
  },
  {
   "cell_type": "code",
   "execution_count": null,
   "metadata": {},
   "outputs": [],
   "source": [
    "import numpy as np\n",
    "import os\n",
    "import pandas as pd"
   ]
  },
  {
   "cell_type": "code",
   "execution_count": null,
   "metadata": {},
   "outputs": [],
   "source": [
    "import sys\n",
    "sys.path.append(\"../\")\n",
    "from kdmc.data.sbasic import get_sbasic_datasets\n",
    "\n",
    "get_sbasic_datasets(f'../../data', 1024, 0, False)"
   ]
  },
  {
   "cell_type": "code",
   "execution_count": null,
   "metadata": {},
   "outputs": [],
   "source": [
    "data = np.load(os.path.join(\"../../data/synthetic/signal\", \"sbasic.npz\"))\n",
    "iq = data['iq']\n",
    "modulation = data['modulation']\n",
    "yml = data['yml']\n",
    "yml_nf = data['yml_nf']\n",
    "y = data['y']\n",
    "snr = data['snr']"
   ]
  },
  {
   "cell_type": "code",
   "execution_count": null,
   "metadata": {},
   "outputs": [],
   "source": [
    "# Without tx and rx filters\n",
    "(yml_nf.argmax(1) == y.argmax(1)).mean()"
   ]
  },
  {
   "cell_type": "code",
   "execution_count": null,
   "metadata": {},
   "outputs": [],
   "source": [
    "# With \"root\" rx and tx filter\n",
    "(yml.argmax(1) == y.argmax(1)).mean()"
   ]
  },
  {
   "cell_type": "code",
   "execution_count": null,
   "metadata": {},
   "outputs": [],
   "source": [
    "from kdmc.plot import plot_acc_vs_snr, plot_acc_vs_snr_by_class\n",
    "\n",
    "df = pd.DataFrame({'snr': snr, 'acc': (yml.argmax(1) == y.argmax(1)), 'y': y.argmax(1), 'y_ml': yml.argmax(1)})\n",
    "df_snr = df.groupby('snr', as_index=False)['acc'].mean().sort_values('snr')\n",
    "fig = plot_acc_vs_snr(df_snr.acc, df_snr.snr, title=\"Accuracy vs SNR\")"
   ]
  },
  {
   "cell_type": "code",
   "execution_count": null,
   "metadata": {},
   "outputs": [],
   "source": [
    "from kdmc.plot import plot_acc_vs_snr_by_class\n",
    "from kdmc.data.sbasic import SBasic\n",
    "\n",
    "df_snr_class = df.groupby(['snr', 'y'], as_index=False)['acc'].mean()\n",
    "fig = plot_acc_vs_snr_by_class(df_snr_class, labels=SBasic.classes, title=\"Accuracy vs SNR\")"
   ]
  },
  {
   "cell_type": "code",
   "execution_count": null,
   "metadata": {},
   "outputs": [],
   "source": [
    "df = pd.DataFrame({'snr': snr, 'acc': (yml_nf.argmax(1) == y.argmax(1)), 'y': y.argmax(1), 'y_ml': yml_nf.argmax(1)})\n",
    "df_snr = df.groupby('snr', as_index=False)['acc'].mean().sort_values('snr')\n",
    "fig = plot_acc_vs_snr(df_snr.acc, df_snr.snr, title=\"Accuracy vs SNR\")"
   ]
  },
  {
   "cell_type": "code",
   "execution_count": null,
   "metadata": {},
   "outputs": [],
   "source": [
    "df_snr_class = df.groupby(['snr', 'y'], as_index=False)['acc'].mean()\n",
    "fig = plot_acc_vs_snr_by_class(df_snr_class, labels=SBasic.classes, title=\"Accuracy vs SNR\")"
   ]
  },
  {
   "cell_type": "code",
   "execution_count": null,
   "metadata": {},
   "outputs": [],
   "source": [
    "import h5py\n",
    "import pandas as pd\n",
    "\n",
    "mods = []\n",
    "snrs = []\n",
    "Ls = []\n",
    "Ms = []\n",
    "keys = []\n",
    "data = {}\n",
    "with h5py.File('../../data/synthetic/1024/dataset1024.mat') as f:\n",
    "    for key in f['ds'].keys():\n",
    "        keys.append(key)\n",
    "        splits = key.split('rer')\n",
    "        mods.append(splits[0])\n",
    "        snrs.append(splits[1])\n",
    "        Ls.append(splits[2])\n",
    "        Ms.append(splits[4])\n",
    "        data[key] = f['ds'][key][:]\n"
   ]
  },
  {
   "cell_type": "code",
   "execution_count": null,
   "metadata": {},
   "outputs": [],
   "source": [
    "df = pd.DataFrame({'mod': mods, 'snr': snrs, 'L': Ls, 'M': Ms, 'key': keys})\n",
    "df['L'] = df['L'].astype(int)\n",
    "df['M'] = df['M'].astype(int)\n",
    "df['snr'] = df.snr.apply(lambda x: x.replace('neg', '-'))\n",
    "df['snr'] = df['snr'].astype(float)\n",
    "df.to_csv('../../data/synthetic/1024/dataset1024_keys.csv', index=False)"
   ]
  },
  {
   "cell_type": "code",
   "execution_count": null,
   "metadata": {},
   "outputs": [],
   "source": [
    "sps8_keys = df.loc[(df.L == 8) & (df.M == 1), 'key'].values\n",
    "list_data = []\n",
    "for key in sps8_keys:\n",
    "    list_data.append(data[key][:,:2])"
   ]
  },
  {
   "cell_type": "code",
   "execution_count": null,
   "metadata": {},
   "outputs": [],
   "source": [
    "import numpy as np\n",
    "\n",
    "dataset = np.concatenate(list_data, axis=2)\n",
    "dataset = dataset.reshape(dataset.shape[2], dataset.shape[1], dataset.shape[0])"
   ]
  },
  {
   "cell_type": "code",
   "execution_count": null,
   "metadata": {},
   "outputs": [],
   "source": [
    "dataset.shape"
   ]
  },
  {
   "cell_type": "code",
   "execution_count": null,
   "metadata": {},
   "outputs": [],
   "source": []
  }
 ],
 "metadata": {
  "interpreter": {
   "hash": "7f1e991bb69f226eb66b74e4e72b455e63dc5a7376fad77c88553bebe760fd14"
  },
  "kernelspec": {
   "display_name": "Python 3.9.7 ('torch')",
   "language": "python",
   "name": "python3"
  },
  "language_info": {
   "codemirror_mode": {
    "name": "ipython",
    "version": 3
   },
   "file_extension": ".py",
   "mimetype": "text/x-python",
   "name": "python",
   "nbconvert_exporter": "python",
   "pygments_lexer": "ipython3",
   "version": "3.9.7"
  },
  "orig_nbformat": 4
 },
 "nbformat": 4,
 "nbformat_minor": 2
}

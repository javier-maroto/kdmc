{
 "cells": [
  {
   "cell_type": "code",
   "execution_count": null,
   "metadata": {},
   "outputs": [],
   "source": [
    "import numpy as np\n",
    "import os\n",
    "import pandas as pd\n",
    "import torch\n",
    "from torchaudio.functional.filtering import lfilter"
   ]
  },
  {
   "cell_type": "code",
   "execution_count": null,
   "metadata": {},
   "outputs": [],
   "source": [
    "import sys\n",
    "sys.path.append(\"../\")\n",
    "from kdmc.data.sbasic import get_sbasic_datasets\n",
    "\n",
    "get_sbasic_datasets(f'../../data', 1024, 0)"
   ]
  },
  {
   "cell_type": "code",
   "execution_count": null,
   "metadata": {},
   "outputs": [],
   "source": [
    "data = np.load(os.path.join(\"../../data/synthetic/signal\", \"sbasic_big.npz\"))\n",
    "iq = data['iq']\n",
    "modulation = data['modulation']\n",
    "y = data['y']\n",
    "snr = data['snr']\n",
    "rx_s = data['rx_s']"
   ]
  },
  {
   "cell_type": "code",
   "execution_count": null,
   "metadata": {},
   "outputs": [],
   "source": [
    "def rrcosfilter(N, alpha, Ts, gain=None):\n",
    "    \"\"\"\n",
    "    Generates a root raised cosine (RRC) filter (FIR) impulse response.\n",
    "    Parameters\n",
    "    ----------\n",
    "    N : int\n",
    "        Length of the filter in samples.\n",
    "    alpha : float\n",
    "        Roll off factor (Valid values are [0, 1]).\n",
    "    Ts : float\n",
    "        Symbol period in seconds.\n",
    "    Returns\n",
    "    ---------\n",
    "    h_rrc : 1-D ndarray of floats\n",
    "        Impulse response of the root raised cosine filter.\n",
    "    \"\"\"\n",
    "    t_vector = np.arange(N)-(N-1)/2\n",
    "    h_rrc = np.zeros(N, dtype=np.float32)\n",
    "\n",
    "    for x, t in enumerate(t_vector):\n",
    "        if t == 0.0:\n",
    "            h_rrc[x] = 1.0 - alpha + (4*alpha/np.pi)\n",
    "        elif alpha != 0 and abs(t) == Ts/(4*alpha):\n",
    "            h_rrc[x] = (alpha/np.sqrt(2))*(((1+2/np.pi)* \\\n",
    "                    (np.sin(np.pi/(4*alpha)))) + ((1-2/np.pi)*(np.cos(np.pi/(4*alpha)))))\n",
    "        else:\n",
    "            h_rrc[x] = (np.sin(np.pi*t*(1-alpha)/Ts) +  \\\n",
    "                    4*alpha*(t/Ts)*np.cos(np.pi*t*(1+alpha)/Ts))/ \\\n",
    "                    (np.pi*t*(1-(4*alpha*t/Ts)*(4*alpha*t/Ts))/Ts)\n",
    "    if gain is None:\n",
    "        h_rrc *= (1/np.sqrt(Ts))\n",
    "    h_rrc = torch.from_numpy(h_rrc)\n",
    "    return h_rrc\n",
    "\n",
    "h = rrcosfilter(8 * 8 + 1, alpha=0.35, Ts=8)\n",
    "h"
   ]
  },
  {
   "cell_type": "code",
   "execution_count": null,
   "metadata": {},
   "outputs": [],
   "source": [
    "h = torch.tensor([0.000255413507322333,0.00110422182418781,0.00166527642963825,0.00172728942499136,0.00119672217082238,0.000143118377136952,-0.00119380933122976,-0.00244282808313376,-0.00318217479899278,-0.00304811162353564,-0.00184716549701300,0.000356156769634307,0.00320234275056614,0.00606806822478606,0.00816924442299973,0.00872309340615226,0.00714095795073857,0.00321272897261628,-0.00275948306981454,-0.00991503060643535,-0.0168979866895801,-0.0220315921582807,-0.0235825830725101,-0.0200735499350221,-0.0105878322047461,0.00499197737985832,0.0258626845030293,0.0503282966092729,0.0759828182924085,0.100025226547374,0.119658253120396,0.132505285668751,0.136974268964650,0.132505285668751,0.119658253120396,0.100025226547374,0.0759828182924085,0.0503282966092729,0.0258626845030293,0.00499197737985832,-0.0105878322047461,-0.0200735499350221,-0.0235825830725101,-0.0220315921582807,-0.0168979866895801,-0.00991503060643535,-0.00275948306981454,0.00321272897261628,0.00714095795073857,0.00872309340615226,0.00816924442299973,0.00606806822478606,0.00320234275056614,0.000356156769634307,-0.00184716549701300,-0.00304811162353564,-0.00318217479899278,-0.00244282808313376,-0.00119380933122976,0.000143118377136952,0.00119672217082238,0.00172728942499136,0.00166527642963825,0.00110422182418781,0.000255413507322333], dtype=torch.float32)"
   ]
  },
  {
   "cell_type": "code",
   "execution_count": null,
   "metadata": {},
   "outputs": [],
   "source": [
    "iqt = torch.from_numpy(iq)"
   ]
  },
  {
   "cell_type": "code",
   "execution_count": null,
   "metadata": {},
   "outputs": [],
   "source": [
    "iq.shape"
   ]
  },
  {
   "cell_type": "code",
   "execution_count": null,
   "metadata": {},
   "outputs": [],
   "source": [
    "rx_sc = lfilter(iqt[0], torch.tensor([1] + [0]*(h.size(0) - 1)), h, clamp=False)\n",
    "rx_sc[..., :160:8]"
   ]
  },
  {
   "cell_type": "code",
   "execution_count": null,
   "metadata": {},
   "outputs": [],
   "source": [
    "rx_sc = torch.conv1d(iqt[0:1], h.view(1, 1, -1).repeat(1,2,1), groups=1)\n",
    "rx_sc[..., :160:8]"
   ]
  },
  {
   "cell_type": "code",
   "execution_count": null,
   "metadata": {},
   "outputs": [],
   "source": [
    "from scipy.signal import upfirdn\n",
    "rx_sc = upfirdn(h.numpy(), iqt[0:1].numpy(), up=1, down=8)"
   ]
  },
  {
   "cell_type": "code",
   "execution_count": null,
   "metadata": {},
   "outputs": [],
   "source": [
    "rx_sc[..., :20]"
   ]
  },
  {
   "cell_type": "code",
   "execution_count": null,
   "metadata": {},
   "outputs": [],
   "source": [
    "rx_s[0, ..., :20]"
   ]
  },
  {
   "cell_type": "code",
   "execution_count": null,
   "metadata": {},
   "outputs": [],
   "source": [
    "rx_sc = np.convolve(iqt[0:1].numpy(), h.numpy())"
   ]
  },
  {
   "cell_type": "code",
   "execution_count": null,
   "metadata": {},
   "outputs": [],
   "source": [
    "reversed(h).view(1, 1, -1).repeat(1, 2, 1).shape"
   ]
  },
  {
   "cell_type": "code",
   "execution_count": null,
   "metadata": {},
   "outputs": [],
   "source": [
    "iqt[0:1].shape"
   ]
  },
  {
   "cell_type": "code",
   "execution_count": null,
   "metadata": {},
   "outputs": [],
   "source": [
    "rx_sc.shape"
   ]
  },
  {
   "cell_type": "code",
   "execution_count": null,
   "metadata": {},
   "outputs": [],
   "source": [
    "rx_s[0,:,8:]"
   ]
  },
  {
   "cell_type": "code",
   "execution_count": null,
   "metadata": {},
   "outputs": [],
   "source": [
    "def raised_root_cosine(upsample, n_span_symb, alpha, gain=None):\n",
    "    \"\"\"\n",
    "    Root raised cosine (RRC) filter (FIR) impulse response.\n",
    "\n",
    "    upsample: number of samples per symbol\n",
    "\n",
    "    num_positive_lobes: number of positive overlaping symbols\n",
    "    length of filter is 2 * num_positive_lobes + 1 samples\n",
    "\n",
    "    alpha: roll-off factor\n",
    "    \"\"\"\n",
    "    if gain is None:\n",
    "        gain = 1 / np.sqrt(upsample)\n",
    "\n",
    "    N = upsample * n_span_symb + 1\n",
    "    t = (np.arange(N) - N / 2) / upsample\n",
    "\n",
    "    # result vector\n",
    "    h_rrc = np.zeros(t.size, dtype=float)\n",
    "\n",
    "    # index for special cases\n",
    "    sample_i = np.zeros(t.size, dtype=bool)\n",
    "\n",
    "    # deal with special cases\n",
    "    subi = t == 0\n",
    "    sample_i = np.bitwise_or(sample_i, subi)\n",
    "    h_rrc[subi] = 1.0 - alpha + (4 * alpha / np.pi)\n",
    "\n",
    "    subi = np.abs(t) == 1 / (4 * alpha)\n",
    "    sample_i = np.bitwise_or(sample_i, subi)\n",
    "    h_rrc[subi] = (alpha / np.sqrt(2)) \\\n",
    "                * (((1 + 2 / np.pi) * (np.sin(np.pi / (4 * alpha))))\n",
    "                + ((1 - 2 / np.pi) * (np.cos(np.pi / (4 * alpha)))))\n",
    "\n",
    "    # base case\n",
    "    sample_i = np.bitwise_not(sample_i)\n",
    "    ti = t[sample_i]\n",
    "    h_rrc[sample_i] = np.sin(np.pi * ti * (1 - alpha)) \\\n",
    "                    + 4 * alpha * ti * np.cos(np.pi * ti * (1 + alpha))\n",
    "    h_rrc[sample_i] /= (np.pi * ti * (1 - (4 * alpha * ti) ** 2))\n",
    "\n",
    "    # multiply by gain\n",
    "    #h_rrc *= gain\n",
    "\n",
    "    return h_rrc"
   ]
  },
  {
   "cell_type": "code",
   "execution_count": null,
   "metadata": {},
   "outputs": [],
   "source": [
    "def rcosfilter(N, beta, Ts, Fs):\n",
    "    t = (np.arange(N) - N / 2) / Fs\n",
    "    return np.where(np.abs(2*t) == Ts / beta,\n",
    "        np.pi / 4 * np.sinc(t/Ts),\n",
    "        np.sinc(t/Ts) * np.cos(np.pi*beta*t/Ts) / (1 - (2*beta*t/Ts) ** 2))\n",
    "h = rcosfilter(8 * 8, 0.35, Ts=8, Fs=1)\n",
    "h"
   ]
  },
  {
   "cell_type": "code",
   "execution_count": null,
   "metadata": {},
   "outputs": [],
   "source": [
    "h = raised_root_cosine(8, 8, 0.35)\n",
    "print(len(h))\n",
    "h"
   ]
  },
  {
   "cell_type": "code",
   "execution_count": null,
   "metadata": {},
   "outputs": [],
   "source": [
    "def compute_ml(self, x, snr) -> torch.Tensor:\n",
    "        \"\"\"Constructs the likelihood function for the given SNR and samples per symbol.\n",
    "        Only valid for the supported modulations.\n",
    "\n",
    "        Args:\n",
    "            x (torch.Tensor): signal received. Shape: (batch_size, IQ, time_samples)\n",
    "            snr (float): SNR in dB.\n",
    "        \n",
    "        Returns:\n",
    "            torch.Tensor: likelihood values ()\n",
    "        \"\"\"\n",
    "        N0 = 10 ** (-snr/20)\n",
    "        sigma = N0 / torch.sqrt(2)\n",
    "        K = torch.log(2 * torch.pi * sigma ** 2)\n",
    "\n",
    "        likelihood = torch.zeros(x.shape[0], len(self.states_dict))\n",
    "        for j, mod_states in enumerate(self.states_dict.values()):\n",
    "            M = len(mod_states)\n",
    "            distances = torch.zeros((x.shape[0], x.shape[2], M))\n",
    "            for i, state in enumerate(mod_states):\n",
    "                distances[..., i] = torch.sum((x - state) ** 2, dim=1) / (2 * sigma ** 2)\n",
    "            likelihood_sample = torch.logsumexp(-distances, dim=-1) + K\n",
    "            likelihood[:, j] = torch.sum(likelihood_sample, dim=-1)\n",
    "        return F.softmax(likelihood, dim=-1)"
   ]
  },
  {
   "cell_type": "code",
   "execution_count": null,
   "metadata": {},
   "outputs": [],
   "source": [
    "# Without tx and rx filters\n",
    "(yml_nf.argmax(1) == y.argmax(1)).mean()"
   ]
  },
  {
   "cell_type": "code",
   "execution_count": null,
   "metadata": {},
   "outputs": [],
   "source": [
    "# With \"root\" rx and tx filter\n",
    "(yml.argmax(1) == y.argmax(1)).mean()"
   ]
  },
  {
   "cell_type": "code",
   "execution_count": null,
   "metadata": {},
   "outputs": [],
   "source": [
    "from kdmc.plot import plot_acc_vs_snr, plot_acc_vs_snr_by_class\n",
    "\n",
    "df = pd.DataFrame({'snr': snr, 'acc': (yml.argmax(1) == y.argmax(1)), 'y': y.argmax(1), 'y_ml': yml.argmax(1)})\n",
    "df_snr = df.groupby('snr', as_index=False)['acc'].mean().sort_values('snr')\n",
    "fig = plot_acc_vs_snr(df_snr.acc, df_snr.snr, title=\"Accuracy vs SNR\")"
   ]
  },
  {
   "cell_type": "code",
   "execution_count": null,
   "metadata": {},
   "outputs": [],
   "source": [
    "from kdmc.plot import plot_acc_vs_snr_by_class\n",
    "from kdmc.data.sbasic import SBasic\n",
    "\n",
    "df_snr_class = df.groupby(['snr', 'y'], as_index=False)['acc'].mean()\n",
    "fig = plot_acc_vs_snr_by_class(df_snr_class, labels=SBasic.classes, title=\"Accuracy vs SNR\")"
   ]
  },
  {
   "cell_type": "code",
   "execution_count": null,
   "metadata": {},
   "outputs": [],
   "source": [
    "df = pd.DataFrame({'snr': snr, 'acc': (yml_nf.argmax(1) == y.argmax(1)), 'y': y.argmax(1), 'y_ml': yml_nf.argmax(1)})\n",
    "df_snr = df.groupby('snr', as_index=False)['acc'].mean().sort_values('snr')\n",
    "fig = plot_acc_vs_snr(df_snr.acc, df_snr.snr, title=\"Accuracy vs SNR\")"
   ]
  },
  {
   "cell_type": "code",
   "execution_count": null,
   "metadata": {},
   "outputs": [],
   "source": [
    "df_snr_class = df.groupby(['snr', 'y'], as_index=False)['acc'].mean()\n",
    "fig = plot_acc_vs_snr_by_class(df_snr_class, labels=SBasic.classes, title=\"Accuracy vs SNR\")"
   ]
  },
  {
   "cell_type": "code",
   "execution_count": null,
   "metadata": {},
   "outputs": [],
   "source": [
    "import h5py\n",
    "import pandas as pd\n",
    "\n",
    "mods = []\n",
    "snrs = []\n",
    "Ls = []\n",
    "Ms = []\n",
    "keys = []\n",
    "data = {}\n",
    "with h5py.File('../../data/synthetic/1024/dataset1024.mat') as f:\n",
    "    for key in f['ds'].keys():\n",
    "        keys.append(key)\n",
    "        splits = key.split('rer')\n",
    "        mods.append(splits[0])\n",
    "        snrs.append(splits[1])\n",
    "        Ls.append(splits[2])\n",
    "        Ms.append(splits[4])\n",
    "        data[key] = f['ds'][key][:]\n"
   ]
  },
  {
   "cell_type": "code",
   "execution_count": null,
   "metadata": {},
   "outputs": [],
   "source": [
    "df = pd.DataFrame({'mod': mods, 'snr': snrs, 'L': Ls, 'M': Ms, 'key': keys})\n",
    "df['L'] = df['L'].astype(int)\n",
    "df['M'] = df['M'].astype(int)\n",
    "df['snr'] = df.snr.apply(lambda x: x.replace('neg', '-'))\n",
    "df['snr'] = df['snr'].astype(float)\n",
    "df.to_csv('../../data/synthetic/1024/dataset1024_keys.csv', index=False)"
   ]
  },
  {
   "cell_type": "code",
   "execution_count": null,
   "metadata": {},
   "outputs": [],
   "source": [
    "sps8_keys = df.loc[(df.L == 8) & (df.M == 1), 'key'].values\n",
    "list_data = []\n",
    "for key in sps8_keys:\n",
    "    list_data.append(data[key][:,:2])"
   ]
  },
  {
   "cell_type": "code",
   "execution_count": null,
   "metadata": {},
   "outputs": [],
   "source": [
    "import numpy as np\n",
    "\n",
    "dataset = np.concatenate(list_data, axis=2)\n",
    "dataset = dataset.reshape(dataset.shape[2], dataset.shape[1], dataset.shape[0])"
   ]
  },
  {
   "cell_type": "code",
   "execution_count": null,
   "metadata": {},
   "outputs": [],
   "source": [
    "dataset.shape"
   ]
  },
  {
   "cell_type": "code",
   "execution_count": null,
   "metadata": {},
   "outputs": [],
   "source": []
  }
 ],
 "metadata": {
  "interpreter": {
   "hash": "7f1e991bb69f226eb66b74e4e72b455e63dc5a7376fad77c88553bebe760fd14"
  },
  "kernelspec": {
   "display_name": "Python 3.9.7 ('torch')",
   "language": "python",
   "name": "python3"
  },
  "language_info": {
   "codemirror_mode": {
    "name": "ipython",
    "version": 3
   },
   "file_extension": ".py",
   "mimetype": "text/x-python",
   "name": "python",
   "nbconvert_exporter": "python",
   "pygments_lexer": "ipython3",
   "version": "3.9.7"
  },
  "orig_nbformat": 4
 },
 "nbformat": 4,
 "nbformat_minor": 2
}

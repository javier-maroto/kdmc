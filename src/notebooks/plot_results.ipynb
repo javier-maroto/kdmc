{
 "cells": [
  {
   "cell_type": "code",
   "execution_count": null,
   "metadata": {},
   "outputs": [],
   "source": [
    "import wandb\n",
    "import pandas as pd\n",
    "from tqdm import tqdm, trange\n",
    "import matplotlib.pyplot as plt\n",
    "import numpy as np\n",
    "import seaborn as sns"
   ]
  },
  {
   "cell_type": "code",
   "execution_count": null,
   "metadata": {},
   "outputs": [],
   "source": [
    "api = wandb.Api()\n",
    "entity = \"javiermarotomorales\"  # set to your entity\n",
    "projects = ['kdmc_sp0c20', 'kdmc_sm_rml2018', 'kdmc_sbasic', 'kdmc_sawgn2p', 'kdmc_sawgn']\n",
    "\n",
    "skeys = ['test.acc', 'test.pgd-7_20dB_acc', '_timestamp', 'epoch']\n",
    "ckeys = ['id', 'lr', 'atk', 'arch', 'loss', 'seed', 'sched', 'dataset', 'n_epochs', 'batch_size', 'dataset_size', 'data_path', 'kt_alpha', 'spr']\n",
    "\n",
    "ddf = {}\n",
    "for k in (skeys + ckeys):\n",
    "    ddf[k] = []\n",
    "for project in projects:\n",
    "    runs = api.runs(entity + \"/\" + project)\n",
    "\n",
    "    \n",
    "    for run in tqdm(runs):\n",
    "        for k in skeys:\n",
    "            if k in run.summary:\n",
    "                ddf[k].append(run.summary[k])\n",
    "            else:\n",
    "                ddf[k].append(None)\n",
    "        for k in ckeys:\n",
    "            if k in run.config:\n",
    "                ddf[k].append(run.config[k])\n",
    "            else:\n",
    "                ddf[k].append(None)\n",
    "\n",
    "runs_df = pd.DataFrame(ddf)"
   ]
  },
  {
   "cell_type": "code",
   "execution_count": null,
   "metadata": {},
   "outputs": [],
   "source": [
    "entity = \"think-team\"  # set to your entity\n",
    "projects = ['kdmc_sp0c20', 'kdmc_sbasic', 'kdmc_sawgn2p']\n",
    "\n",
    "\n",
    "ddf = {}\n",
    "for k in (skeys + ckeys):\n",
    "    ddf[k] = []\n",
    "for project in projects:\n",
    "    runs = api.runs(entity + \"/\" + project)\n",
    "\n",
    "    \n",
    "    for run in tqdm(runs):\n",
    "        for k in skeys:\n",
    "            if k in run.summary:\n",
    "                ddf[k].append(run.summary[k])\n",
    "            else:\n",
    "                ddf[k].append(None)\n",
    "        for k in ckeys:\n",
    "            if k in run.config:\n",
    "                ddf[k].append(run.config[k])\n",
    "            else:\n",
    "                ddf[k].append(None)\n",
    "\n",
    "runs_df = runs_df.append(pd.DataFrame(ddf))"
   ]
  },
  {
   "cell_type": "code",
   "execution_count": null,
   "metadata": {},
   "outputs": [],
   "source": [
    "runs_df = runs_df.sort_values('_timestamp', ascending=False)"
   ]
  },
  {
   "cell_type": "code",
   "execution_count": null,
   "metadata": {},
   "outputs": [],
   "source": [
    "plt.plot(np.arange(len(runs_df)), runs_df._timestamp)"
   ]
  },
  {
   "cell_type": "code",
   "execution_count": null,
   "metadata": {},
   "outputs": [],
   "source": [
    "#df = runs_df.loc[(runs_df._timestamp > 1.65e9) & (runs_df.epoch == runs_df.n_epochs)]\n",
    "df = runs_df.loc[(runs_df._timestamp > 1.66243e9) & (runs_df.epoch == runs_df.n_epochs)]\n",
    "df.loc[df.loss.isin(['std', 'at', 'std_lnr', 'at_lnr']), 'kt_alpha'] = 0\n",
    "df.loc[df.loss.isin(['std_ml', 'at_ml']), 'kt_alpha'] = 1\n",
    "df['spr'] = [int(x[2]) for x in df['atk']]\n",
    "df"
   ]
  },
  {
   "cell_type": "code",
   "execution_count": null,
   "metadata": {},
   "outputs": [],
   "source": [
    "df_plot = df.loc[(df.spr == 20) & (df.dataset == 'sbasic') & ~(df.loss.isin(['at_yml', 'std_yml']))].groupby(['id'], as_index=False).agg({x: ['mean', 'std'] for x in ('test.acc', 'test.pgd-7_20dB_acc')})\n",
    "df_plot.columns = [\"_\".join(col_name).rstrip('_') for col_name in df_plot.columns]\n",
    "df_plot = df_plot.reset_index()\n",
    "df_plot.loc[df_plot.id == 'std', f\"{'test.acc'}_mean\"].iloc[0]"
   ]
  },
  {
   "cell_type": "code",
   "execution_count": null,
   "metadata": {},
   "outputs": [],
   "source": [
    "len(df_plot.loc[df_plot.id == 'at']) > 0"
   ]
  },
  {
   "cell_type": "code",
   "execution_count": null,
   "metadata": {},
   "outputs": [],
   "source": [
    "def get_metrics_dataset(dataset, spr=20):\n",
    "    df_plot = df.loc[(df.spr == 20) & (df.dataset == dataset) & ~(df.loss.isin(['at_yml', 'std_yml']))].groupby(['id'], as_index=False).agg({x: ['mean', 'std'] for x in ('test.acc', 'test.pgd-7_20dB_acc')})\n",
    "    df_plot.columns = [\"_\".join(col_name).rstrip('_') for col_name in df_plot.columns]\n",
    "    df_plot = df_plot.reset_index()\n",
    "    get_line = lambda r: f\"${r['test.acc_mean'].iloc[0]:.2f} \\pm {r['test.acc_std'].iloc[0]:.2f}$ & ${r['test.pgd-7_20dB_acc_mean'].iloc[0]:.2f} \\pm {r['test.pgd-7_20dB_acc_std'].iloc[0]:.2f}$\" if len(r.loc[r.id == t]) > 0 else 'nan'\n",
    "\n",
    "    with open(f'results_{dataset}.txt', 'w') as f:\n",
    "        ts = ['std', 'std_lnr', 'std_ml', 'at', 'at_lnr', 'at_ml']\n",
    "        Ts = ['ST', 'ST\\_LNR', 'ST\\_ML', 'AT', 'AT\\_LNR', 'AT\\_ML']\n",
    "        for t, T in zip(ts, Ts):\n",
    "            f.write(f\"\t\t{T} & {get_line(df_plot.loc[df_plot.id == t])} \\\\\\\\ \\n\")\n",
    "\n",
    "get_metrics_dataset('sbasic')\n",
    "get_metrics_dataset('sawgn2p')\n",
    "get_metrics_dataset('sp0c20')"
   ]
  },
  {
   "cell_type": "code",
   "execution_count": null,
   "metadata": {},
   "outputs": [],
   "source": [
    "def get_metrics_dataset(dataset, spr=20):\n",
    "    df_plot = df.loc[(df.spr == 20) & (df.dataset == dataset) & ~(df.loss.isin(['at_yml', 'std_yml']))].groupby(['id'], as_index=False).agg({x: ['mean', 'std'] for x in ('test.acc', 'test.pgd-7_20dB_acc')})\n",
    "    df_plot.columns = [\"_\".join(col_name).rstrip('_') for col_name in df_plot.columns]\n",
    "    df_plot = df_plot.reset_index()\n",
    "    get_line_t = lambda r, m, t: f\"${r.loc[r.id == t, f'{m}_mean'].iloc[0]:.2f} \\pm {r.loc[r.id == t, f'{m}_std'].iloc[0]:.2f}$\" if len(r.loc[r.id == t]) > 0 else 'nan'\n",
    "    get_line = lambda r, m, ts: f\"{m} & {' & '.join([get_line_t(r, m, t) for t in ts])} \\\\\\\\ \\n\"\n",
    "\n",
    "    with open(f'results_{dataset}.txt', 'w') as f:\n",
    "        ts = ['std', 'std_lnr', 'std_ml', 'at', 'at_lnr', 'at_ml']\n",
    "        f.write(get_line(df_plot, 'test.acc', ts))\n",
    "        f.write(get_line(df_plot, 'test.pgd-7_20dB_acc', ts))\n",
    "\n",
    "get_metrics_dataset('sbasic')\n",
    "get_metrics_dataset('sawgn2p')\n",
    "get_metrics_dataset('sp0c20')"
   ]
  },
  {
   "cell_type": "code",
   "execution_count": null,
   "metadata": {},
   "outputs": [],
   "source": [
    "def get_metrics(spr=20):\n",
    "    df_plot = df.loc[(df.spr == 20) & ~(df.loss.isin(['at_yml', 'std_yml']))].groupby(['id', 'dataset'], as_index=False).agg({x: ['mean', 'std'] for x in ('test.acc', 'test.pgd-7_20dB_acc')})\n",
    "    df_plot.columns = [\"_\".join(col_name).rstrip('_') for col_name in df_plot.columns]\n",
    "    df_plot = pd.pivot(df_plot, index=('id'), columns=['dataset'], values=['test.acc_mean', 'test.pgd-7_20dB_acc_mean', 'test.acc_std', 'test.pgd-7_20dB_acc_std']).reset_index()\n",
    "    get_line_d = lambda r, d: f\"${r['test.acc_mean'][d]:.2f} \\pm {r['test.acc_std'][d]:.2f}$ & ${r['test.pgd-7_20dB_acc_mean'][d]:.2f} \\pm {r['test.pgd-7_20dB_acc_std'][d]:.2f}$\"\n",
    "    get_line = lambda r: f\"{r['id'].values[0]} & {get_line_d(r, 'sbasic')} & {get_line_d(r, 'sawgn2p')} & {get_line_d(r, 'sp0c20')} \\\\\\\\ \\n\"\n",
    "\n",
    "    with open(f'results.txt', 'w') as f:\n",
    "        for i in trange(len(df_plot)):\n",
    "            r = df_plot.iloc[i]\n",
    "            f.write(get_line(r))\n",
    "\n",
    "get_metrics()\n",
    "    "
   ]
  },
  {
   "cell_type": "code",
   "execution_count": null,
   "metadata": {},
   "outputs": [],
   "source": [
    "df_plot = df.loc[(df.spr == 20) & (df.dataset == 'sp0c20') & ~(df.loss.isin(['at_yml', 'std_yml']))]\n",
    "df_plot[['id', 'seed', 'test.acc', 'test.pgd-7_20dB_acc']].sort_values(['id', 'seed'])"
   ]
  },
  {
   "cell_type": "code",
   "execution_count": null,
   "metadata": {},
   "outputs": [],
   "source": [
    "def plot_std_metrics(dataset, lims, rang=10):\n",
    "    df_plot = df.loc[(df.dataset == dataset) & (df.id.isin(['std', 'std_lnr', 'std_ml']))].groupby(['id', 'kt_alpha'], as_index=False).mean()\n",
    "    fig1, axs = plt.subplots(ncols=2, figsize=(12, 4))\n",
    "    sns.barplot(data=df_plot, x='test.acc', y='id', orient='h', ax=axs[0])\n",
    "    axs[0].set_xlim((lims[0], lims[0] + rang))\n",
    "    axs[0].set(ylabel=None)\n",
    "    axs[1] = sns.barplot(data=df_plot, x='test.pgd-7_20dB_acc', y='id', orient='h')\n",
    "    axs[1].set_xlim((lims[1], lims[1] + rang))\n",
    "    axs[1].set(ylabel=None)\n",
    "\n",
    "def plot_std_alpha(dataset):\n",
    "    df_plot = df.loc[(df.dataset == dataset) & (df.id.isin(['std', 'std_ml', 'std_yml']))].groupby(['id', 'kt_alpha'], as_index=False).mean().sort_values('kt_alpha')\n",
    "    fig, ax1 = plt.subplots()\n",
    "    ax2 = ax1.twinx()\n",
    "    ax1.plot(df_plot['kt_alpha'], df_plot['test.acc'], '-', color='blue')\n",
    "    ax2.plot(df_plot['kt_alpha'], df_plot['test.pgd-7_20dB_acc'], '-', color='orange')\n",
    "\n",
    "    ax1.set_xlabel('alpha')\n",
    "    ax1.set_ylabel('Accuracy', color='b')\n",
    "    ax2.set_ylabel('Robustness', color='orange')\n",
    "\n",
    "def plot_at_metrics(dataset, spr, lims, rang=10):\n",
    "    df_plot = df.loc[(df.dataset == dataset) & (df.id.isin(['at', 'at_lnr', 'at_ml'])) & (df.spr == spr)].groupby(['id', 'kt_alpha', 'spr'], as_index=False).mean()\n",
    "    if len(df_plot) == 0:\n",
    "        return\n",
    "    fig1, axs = plt.subplots(ncols=2, figsize=(12, 4))\n",
    "    sns.barplot(data=df_plot, x='test.acc', y='id', orient='h', ax=axs[0])\n",
    "    axs[0].set_xlim((lims[0], lims[0] + rang))\n",
    "    axs[0].set(ylabel=None)\n",
    "    axs[1] = sns.barplot(data=df_plot, x='test.pgd-7_20dB_acc', y='id', orient='h')\n",
    "    axs[1].set_xlim((lims[1], lims[1] + rang))\n",
    "    axs[1].set(ylabel=None)\n",
    "\n",
    "def plot_at_alpha(dataset, spr):\n",
    "    df_plot = df.loc[(df.dataset == dataset) & (df.id.isin(['at', 'at_ml', 'at_yml'])) & (df.spr == spr)].groupby(['id', 'kt_alpha'], as_index=False).mean().sort_values('kt_alpha')\n",
    "    fig, ax1 = plt.subplots()\n",
    "    ax2 = ax1.twinx()\n",
    "    ax1.plot(df_plot['kt_alpha'], df_plot['test.acc'], '-', color='blue')\n",
    "    ax2.plot(df_plot['kt_alpha'], df_plot['test.pgd-7_20dB_acc'], '-', color='orange')\n",
    "\n",
    "    ax1.set_xlabel('alpha')\n",
    "    ax1.set_ylabel('Accuracy', color='b')\n",
    "    ax2.set_ylabel('Robustness', color='orange')"
   ]
  },
  {
   "cell_type": "code",
   "execution_count": null,
   "metadata": {},
   "outputs": [],
   "source": [
    "plot_std_metrics('sbasic', lims=(80, 20))\n",
    "plot_std_alpha('sbasic')\n",
    "plot_at_metrics('sbasic', spr=30, lims=(80, 38))\n",
    "plot_at_metrics('sbasic', spr=25, lims=(70, 48))\n",
    "plot_at_metrics('sbasic', spr=20, lims=(58, 52))\n",
    "plot_at_alpha('sbasic', spr=30)\n",
    "plot_at_alpha('sbasic', spr=25)\n",
    "plot_at_alpha('sbasic', spr=20)"
   ]
  },
  {
   "cell_type": "code",
   "execution_count": null,
   "metadata": {},
   "outputs": [],
   "source": [
    "plot_std_metrics('sawgn2p', lims=(80, 20))\n",
    "plot_std_alpha('sawgn2p')\n",
    "plot_at_metrics('sawgn2p', spr=30, lims=(80, 38))\n",
    "plot_at_metrics('sawgn2p', spr=25, lims=(70, 48))\n",
    "plot_at_metrics('sawgn2p', spr=20, lims=(58, 52))\n",
    "plot_at_alpha('sawgn2p', spr=30)\n",
    "plot_at_alpha('sawgn2p', spr=25)\n",
    "plot_at_alpha('sawgn2p', spr=20)"
   ]
  },
  {
   "cell_type": "code",
   "execution_count": null,
   "metadata": {},
   "outputs": [],
   "source": [
    "\n",
    "\n"
   ]
  },
  {
   "cell_type": "code",
   "execution_count": null,
   "metadata": {},
   "outputs": [],
   "source": [
    "\n",
    "\n"
   ]
  },
  {
   "cell_type": "code",
   "execution_count": null,
   "metadata": {},
   "outputs": [],
   "source": [
    "plot_std_metrics('sp0c20', lims=(72, 14))\n",
    "plot_std_alpha('sp0c20')"
   ]
  },
  {
   "cell_type": "code",
   "execution_count": null,
   "metadata": {},
   "outputs": [],
   "source": [
    "df.loc[(df.dataset == 'sp0c20') & (df.id.str.startswith('at'))]"
   ]
  },
  {
   "cell_type": "code",
   "execution_count": null,
   "metadata": {},
   "outputs": [],
   "source": [
    "def plot_at_metrics(dataset, spr, lims, rang=10):\n",
    "    df_plot = df.loc[(df.dataset == dataset) & (df.id.isin(['at', 'at_lnr', 'at_ml', 'at_aml'])) & (df.spr == spr)].groupby(['id', 'kt_alpha', 'spr'], as_index=False).mean()\n",
    "    fig1, axs = plt.subplots(ncols=2, figsize=(12, 4))\n",
    "    sns.barplot(data=df_plot, x='test.acc', y='id', orient='h', ax=axs[0])\n",
    "    axs[0].set_xlim((lims[0], lims[0] + rang))\n",
    "    axs[0].set(ylabel=None)\n",
    "    axs[1] = sns.barplot(data=df_plot, x='test.pgd-7_20dB_acc', y='id', orient='h')\n",
    "    axs[1].set_xlim((lims[1], lims[1] + rang))\n",
    "    axs[1].set(ylabel=None)\n",
    "\n",
    "plot_at_metrics('sp0c20', spr=30, lims=(70, 34))\n",
    "plot_at_metrics('sp0c20', spr=25, lims=(60, 44))"
   ]
  },
  {
   "cell_type": "code",
   "execution_count": null,
   "metadata": {},
   "outputs": [],
   "source": [
    "plot_at_alpha('sp0c20', spr=30)\n",
    "plot_at_alpha('sp0c20', spr=25)"
   ]
  },
  {
   "cell_type": "code",
   "execution_count": null,
   "metadata": {},
   "outputs": [],
   "source": [
    "# Latex code\n",
    "get_line = lambda r: f\"{r['dataset'][0]} & {r['arch'][0]}-d{int(1 / r['lwidth'][0])} & {r['sched'][0]}-{int(r['n_epochs'][0])} & ${r['test.acc']['mean']:.2f} \\pm {r['test.acc']['std']:.2f}$ & ${r['test.autoattack_acc']['mean']:.2f} \\pm {r['test.autoattack_acc']['std']:.2f}$ \\\\\\\\ \\n\"\n",
    "\n",
    "with open('results.txt', 'w') as f:\n",
    "    for i in trange(len(res)):\n",
    "        r = res.iloc[i]\n",
    "        f.write(get_line(r))"
   ]
  }
 ],
 "metadata": {
  "kernelspec": {
   "display_name": "Python 3.9.13 ('ml')",
   "language": "python",
   "name": "python3"
  },
  "language_info": {
   "codemirror_mode": {
    "name": "ipython",
    "version": 3
   },
   "file_extension": ".py",
   "mimetype": "text/x-python",
   "name": "python",
   "nbconvert_exporter": "python",
   "pygments_lexer": "ipython3",
   "version": "3.9.13"
  },
  "orig_nbformat": 4,
  "vscode": {
   "interpreter": {
    "hash": "854b74281368cb45b14f109d4d57be07866c379b964ccfc0a05b330f00f41107"
   }
  }
 },
 "nbformat": 4,
 "nbformat_minor": 2
}

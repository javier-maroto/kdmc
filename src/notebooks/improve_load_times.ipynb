{
 "cells": [
  {
   "cell_type": "code",
   "execution_count": 1,
   "metadata": {},
   "outputs": [],
   "source": [
    "import sys\n",
    "sys.path.append(\"../\")\n",
    "\n",
    "import tables\n",
    "import numpy as np\n",
    "import h5py\n",
    "from pathlib import Path\n",
    "import time\n",
    "\n",
    "from kdmc.utils import compute_sample_energy"
   ]
  },
  {
   "cell_type": "code",
   "execution_count": 2,
   "metadata": {},
   "outputs": [],
   "source": [
    "data_path = Path(\"/mnt/Data/Datasets/synthetic/signal/\")\n",
    "filename = \"srml2018_4.mat\""
   ]
  },
  {
   "cell_type": "code",
   "execution_count": null,
   "metadata": {},
   "outputs": [],
   "source": [
    "st = time.process_time()\n",
    "\n",
    "with h5py.File(data_path.joinpath(filename), 'r', rdcc_nbytes=1024**2*4000, rdcc_w0=1) as f:\n",
    "    snr = np.squeeze(f['snrs'][:])\n",
    "    rx_x = f['rx_x'][:]\n",
    "    rx_x = np.swapaxes(rx_x, 0, 2)\n",
    "    rx_x = rx_x.astype(np.float32)\n",
    "    # Normalize rx_x\n",
    "    rx_x = rx_x / compute_sample_energy(rx_x)[:, np.newaxis, np.newaxis]\n",
    "    rx_s = f['rx_s'][:]\n",
    "    rx_s = np.swapaxes(rx_s, 0, 2)\n",
    "    y = f['y'][:]\n",
    "    y = np.swapaxes(y, 0, 1)\n",
    "    y = y.astype(np.float32)\n",
    "\n",
    "    modulation = np.argmax(y, axis=1)\n",
    "    modulation = modulation.astype(np.int64)\n",
    "\n",
    "    sps = np.squeeze(f['lsps'][:])\n",
    "    rolloff = np.squeeze(f['rolloffs'][:])\n",
    "    fs = np.squeeze(f['fss'][:])\n",
    "    channel = np.squeeze(f['rays'][:])\n",
    "    snrs_filt = np.squeeze(f['snrs_filt'][:])\n",
    "    \n",
    "et = time.process_time()\n",
    "print('CPU Execution time:', et - st, 'seconds')"
   ]
  },
  {
   "cell_type": "code",
   "execution_count": null,
   "metadata": {},
   "outputs": [],
   "source": [
    "with open(data_path.joinpath('rx_x.npy'), 'wb') as f:\n",
    "    np.save(f, rx_x)\n",
    "with open(data_path.joinpath('rx_s.npy'), 'wb') as f:\n",
    "    np.save(f, rx_s)\n",
    "np.savez(data_path.joinpath('srml2018/params.npz'), y=y, snr=snr, snr_filt=snr_filt, sps=sps, rolloff=rolloff, fs=fs, channel=channel)"
   ]
  },
  {
   "cell_type": "code",
   "execution_count": 4,
   "metadata": {},
   "outputs": [
    {
     "name": "stdout",
     "output_type": "stream",
     "text": [
      "CPU Execution time: 0.13565239400000006 seconds\n"
     ]
    }
   ],
   "source": [
    "st = time.process_time()\n",
    "\n",
    "params = np.load(data_path.joinpath('srml2018/params.npz'))\n",
    "y = params['y']\n",
    "snr = params['snr']\n",
    "snr_filt = params['snr_filt']\n",
    "sps = params['sps']\n",
    "rolloff = params['rolloff']\n",
    "fs = params['fs']\n",
    "channel = params['channel']\n",
    "rx_x = np.load(data_path.joinpath('srml2018/rx_x.npy'), mmap_mode='r')\n",
    "rx_s = np.load(data_path.joinpath('srml2018/rx_s.npy'), mmap_mode='r')\n",
    "    \n",
    "et = time.process_time()\n",
    "print('CPU Execution time:', et - st, 'seconds')"
   ]
  }
 ],
 "metadata": {
  "kernelspec": {
   "display_name": "Python 3.9.13 ('ml')",
   "language": "python",
   "name": "python3"
  },
  "language_info": {
   "codemirror_mode": {
    "name": "ipython",
    "version": 3
   },
   "file_extension": ".py",
   "mimetype": "text/x-python",
   "name": "python",
   "nbconvert_exporter": "python",
   "pygments_lexer": "ipython3",
   "version": "3.9.13"
  },
  "vscode": {
   "interpreter": {
    "hash": "854b74281368cb45b14f109d4d57be07866c379b964ccfc0a05b330f00f41107"
   }
  }
 },
 "nbformat": 4,
 "nbformat_minor": 4
}

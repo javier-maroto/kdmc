{
 "cells": [
  {
   "cell_type": "code",
   "execution_count": null,
   "metadata": {},
   "outputs": [],
   "source": [
    "import sys\n",
    "sys.path.append(\"../\")\n",
    "\n",
    "import tables\n",
    "import numpy as np\n",
    "import h5py\n",
    "from pathlib import Path\n",
    "import time\n",
    "\n",
    "from kdmc.utils import compute_sample_energy"
   ]
  },
  {
   "cell_type": "code",
   "execution_count": null,
   "metadata": {},
   "outputs": [],
   "source": [
    "def compute_snr(signal, noise):\n",
    "    \"\"\"Computes the SNR of one/multiple signal (assumes last two dimensions are the \n",
    "    iq channels and time samples)\"\"\"\n",
    "    if signal.shape != noise.shape:\n",
    "        raise ValueError(\"Signal and noise must have the same shape\")\n",
    "    return 10 * np.log10(np.mean(signal ** 2, axis=(-1,-2)) / np.mean(noise ** 2, axis=(-1,-2)))"
   ]
  },
  {
   "cell_type": "code",
   "execution_count": null,
   "metadata": {},
   "outputs": [],
   "source": [
    "data_path = Path(\"../../data/signal\")\n",
    "filename = \"srml2018_4.mat\"\n",
    "\n",
    "st = time.process_time()\n",
    "\n",
    "with h5py.File(data_path.joinpath(filename), 'r', rdcc_nbytes=1024**2*4000, rdcc_w0=1) as f:\n",
    "    snr = np.squeeze(f['snrs'][:])\n",
    "    rx_x = f['rx_x'][:]\n",
    "    rx_x = np.swapaxes(rx_x, 0, 2)\n",
    "    rx_x = rx_x.astype(np.float32)\n",
    "    # Normalize rx_x\n",
    "    rx_x = rx_x / compute_sample_energy(rx_x)[:, np.newaxis, np.newaxis]\n",
    "    rx_s = f['rx_s'][:]\n",
    "    rx_s = np.swapaxes(rx_s, 0, 2)\n",
    "    y = f['y'][:]\n",
    "    y = np.swapaxes(y, 0, 1)\n",
    "    y = y.astype(np.float32)\n",
    "\n",
    "    modulation = np.argmax(y, axis=1)\n",
    "    modulation = modulation.astype(np.int64)\n",
    "\n",
    "    sps = np.squeeze(f['lsps'][:])\n",
    "    rolloff = np.squeeze(f['rolloffs'][:])\n",
    "    fs = np.squeeze(f['fss'][:])\n",
    "    channel = np.squeeze(f['rays'][:])\n",
    "    snrs_filt = np.squeeze(f['snrs_filt'][:])\n",
    "    \n",
    "et = time.process_time()\n",
    "print('CPU Execution time:', et - st, 'seconds')"
   ]
  },
  {
   "cell_type": "code",
   "execution_count": null,
   "metadata": {},
   "outputs": [],
   "source": [
    "with open(data_path.joinpath('rx_x.npy'), 'wb') as f:\n",
    "    np.save(f, rx_x)\n",
    "with open(data_path.joinpath('rx_s.npy'), 'wb') as f:\n",
    "    np.save(f, rx_s)\n",
    "with open(data_path.joinpath('y.npy'), 'wb') as f:\n",
    "    np.save(f, y)\n",
    "with open(data_path.joinpath('snr.npy'), 'wb') as f:\n",
    "    np.save(f, snr)\n",
    "with open(data_path.joinpath('snr_filt.npy'), 'wb') as f:\n",
    "    np.save(f, snrs_filt)\n",
    "with open(data_path.joinpath('sps.npy'), 'wb') as f:\n",
    "    np.save(f, sps)\n",
    "with open(data_path.joinpath('rolloff.npy'), 'wb') as f:\n",
    "    np.save(f, rolloff)\n",
    "with open(data_path.joinpath('fs.npy'), 'wb') as f:\n",
    "    np.save(f, fs)\n",
    "with open(data_path.joinpath('channel.npy'), 'wb') as f:\n",
    "    np.save(f, channel)"
   ]
  },
  {
   "cell_type": "code",
   "execution_count": null,
   "metadata": {},
   "outputs": [],
   "source": [
    "st = time.process_time()\n",
    "\n",
    "with open(data_path.joinpath('rx_x.npy'), 'rb') as f:\n",
    "    rx_x = np.load(f)\n",
    "with open(data_path.joinpath('rx_s.npy'), 'rb') as f:\n",
    "    rx_s = np.load(f)\n",
    "with open(data_path.joinpath('y.npy'), 'rb') as f:\n",
    "    y = np.load(f)\n",
    "with open(data_path.joinpath('snr.npy'), 'rb') as f:\n",
    "    snr = np.load(f)\n",
    "with open(data_path.joinpath('snr_filt.npy'), 'rb') as f:\n",
    "    snr_filt = np.load(f)\n",
    "with open(data_path.joinpath('sps.npy'), 'rb') as f:\n",
    "    sps = np.load(f)\n",
    "with open(data_path.joinpath('rolloff.npy'), 'rb') as f:\n",
    "    rolloff = np.load(f)\n",
    "with open(data_path.joinpath('fs.npy'), 'rb') as f:\n",
    "    fs = np.load(f)\n",
    "with open(data_path.joinpath('channel.npy'), 'rb') as f:\n",
    "    channel = np.load(f)\n",
    "    \n",
    "et = time.process_time()\n",
    "print('CPU Execution time:', et - st, 'seconds')"
   ]
  }
 ],
 "metadata": {
  "kernelspec": {
   "display_name": "Python 3.8.9 64-bit",
   "language": "python",
   "name": "python3"
  },
  "language_info": {
   "codemirror_mode": {
    "name": "ipython",
    "version": 3
   },
   "file_extension": ".py",
   "mimetype": "text/x-python",
   "name": "python",
   "nbconvert_exporter": "python",
   "pygments_lexer": "ipython3",
   "version": "3.8.9"
  },
  "vscode": {
   "interpreter": {
    "hash": "31f2aee4e71d21fbe5cf8b01ff0e069b9275f58929596ceb00d14d90e3e16cd6"
   }
  }
 },
 "nbformat": 4,
 "nbformat_minor": 4
}
